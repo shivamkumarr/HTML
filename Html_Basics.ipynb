{
  "nbformat": 4,
  "nbformat_minor": 0,
  "metadata": {
    "colab": {
      "provenance": []
    },
    "kernelspec": {
      "name": "python3",
      "display_name": "Python 3"
    },
    "language_info": {
      "name": "python"
    }
  },
  "cells": [
    {
      "cell_type": "markdown",
      "source": [
        "#HTML Basics Assignment  \n"
      ],
      "metadata": {
        "id": "-fFb-UydmGpQ"
      }
    },
    {
      "cell_type": "markdown",
      "source": [
        "Question 1 : Explain the basic structure of an HTML page. Why is it important to follow\n",
        "this structure?   \n",
        "  -\n",
        "```\n",
        "<!DOCTYPE html>\n",
        "<html lang=\"en\">\n",
        "  <head>\n",
        "    <meta charset=\"UTF-8\" />\n",
        "    <meta name=\"viewport\" content=\"width=device-width, initial-scale=1.0\" />\n",
        "    <title> Hello, World!</title>\n",
        "  </head>\n",
        "  <body>\n",
        "    <h1>Hello, World!</h1>\n",
        "     <p>This is a Basic Structure of Html Page</p>\n",
        "  </body>\n",
        "</html>\n",
        "```\n",
        " -> Above is Basic Structure of Html Page\n",
        "   - `<!Doctype Html>`  Declares the document type and version of HTML (HTML5 in this case).\n",
        "   - `<html lang=\"en\">`  Root element of the page. The lang attribute helps with accessibility and SEO.\n",
        "   - `<head>`\t Contains meta information, title, links to CSS, fonts, etc.\n",
        "   - `<meta charset=\"UTF-8\">`\t Defines character encoding (UTF-8 supports most languages).\n",
        "   - `<meta name=\"viewport\">`\t Ensures responsive design on mobile devices.\n",
        "   - `<title>`\tSets the title of the web page (shown on browser tab).\n",
        "   - `<body>`\t Contains all the content visible to the user like headings, paragraphs, images, etc.\n",
        "\n",
        "  -> Importance\n",
        "   1. **Browser Compatibility**: Browsers expect a specific structure. A missing tag can break layout or cause unexpected behavior.\n",
        "   2. **Search Engine Optimization (SEO)**: Proper structure helps search engines understand your content better.\n",
        "   3. **Accessibility**: Screen readers and assistive tech rely on consistent HTML structure to guide users.\n",
        "   4. **Maintainability**: A standard format makes the code easier to read, debug, and modify.\n",
        "   5. **Validation**: Helps your code pass HTML validation checks, improving reliability and future-proofing.\n",
        "\n",
        "\n",
        "\n",
        "\n",
        "\n"
      ],
      "metadata": {
        "id": "ihFqqf-boqQY"
      }
    },
    {
      "cell_type": "markdown",
      "source": [
        "Question 2: You’re building a small personal profile page. Which HTML tags will you\n",
        "use to highlight your name as a heading, describe yourself in a paragraph, and\n",
        "emphasize a key skill?  \n",
        "  - `<h1>`\t- we will use `<h1>` tag for highlighting our name as a heading.\n",
        "  - `<p>`Hello! I am a Shivam Kumar a passionate web developer with a strong interest in creating responsive and user-friendly websites.`</p>`\n",
        "\n",
        "  `<p>`My key skill is `<strong>`JavaScript`</strong>`, which I use to build dynamic and interactive web applications.`</p>`\n",
        "\n",
        " ` <p>` we will use for paragraph.\n",
        "\n",
        " `<strong>`or `<em>` we will use for emphasize a key skill.  \n"
      ],
      "metadata": {
        "id": "FgeVJH9Z-TlT"
      }
    },
    {
      "cell_type": "markdown",
      "source": [
        "Question 3: Look at the code below. Can you find and fix the mistake?\n",
        "\n",
        "`<!-- This is an HTML comment`\n",
        "\n",
        "`<h1>Welcome to my website</h1>`\n",
        "\n",
        "- Answer\n",
        "  - The mistake in above code is the comment is not properly closed.\n",
        "\n",
        "  `<!-- This is an HTML comment -->`  this is how we closed the comment.\n",
        "\n",
        "   `<h1>Welcome to my website</h1>`\n"
      ],
      "metadata": {
        "id": "bqN6C6ZjCYue"
      }
    },
    {
      "cell_type": "markdown",
      "source": [
        "Question 4: You’re creating a form that asks the user to enter their name, select their\n",
        "country from a list, and click a button to submit. Write the HTML code for this.\n",
        "\n",
        "  - Answer\n",
        "\n",
        "```\n",
        "# Html Code for Creating Form\n",
        "\n",
        "<!DOCTYPE html>\n",
        "<html lang=\"en\">\n",
        "<head>\n",
        "  <meta charset=\"UTF-8\" />\n",
        "  <title>User Form</title>\n",
        "</head>\n",
        "<body>\n",
        "\n",
        "  <h2>User Information Form</h2>\n",
        "\n",
        "  <form action=\"/submit-form\" method=\"post\">\n",
        "    <!-- Name Input -->\n",
        "    <label for=\"name\">Name:</label>\n",
        "    <input type=\"text\" id=\"name\" name=\"name\" required />\n",
        "    <br><br>\n",
        "\n",
        "    <!-- Country Selection -->\n",
        "    <label for=\"country\">Country:</label>\n",
        "    <select id=\"country\" name=\"country\" required>\n",
        "      <option value=\"\">--Select Country--</option>\n",
        "      <option value=\"india\">India</option>\n",
        "      <option value=\"usa\">United States of America</option>\n",
        "      <option value=\"uk\">Germany</option>\n",
        "      <option value=\"australia\">Italy</option>\n",
        "      <option value=\"other\">Other</option>\n",
        "    </select>\n",
        "    <br><br>\n",
        "\n",
        "    <!-- Submit Button -->\n",
        "    <button type=\"submit\">Submit</button>\n",
        "  </form>\n",
        "\n",
        "</body>\n",
        "</html>\n",
        "\n",
        "```"
      ],
      "metadata": {
        "id": "m3Nr7HU4MaxD"
      }
    },
    {
      "cell_type": "markdown",
      "source": [
        "Question 5: Write short HTML code to show your favorite fruits in a bulleted list and\n",
        "your top 3 programming languages in a numbered list.\n",
        "  \n",
        "   - Answer\n",
        "\n",
        "\n",
        "```\n",
        "<!DOCTYPE html>\n",
        "<html lang=\"en\">\n",
        "<head>\n",
        "  <meta charset=\"UTF-8\" />\n",
        "  <title>My Favorites</title>\n",
        "</head>\n",
        "<body>\n",
        "\n",
        "  <h2>My Favorite Fruits</h2>\n",
        "  <ul>\n",
        "    <li>Mango</li>\n",
        "    <li>Banana</li>\n",
        "    <li>Strawberry</li>\n",
        "  </ul>\n",
        "\n",
        "  <h2>Top 3 Programming Languages</h2>\n",
        "  <ol>\n",
        "    <li>JavaScript</li>\n",
        "    <li>Python</li>\n",
        "    <li>Java</li>\n",
        "  </ol>\n",
        "\n",
        "</body>\n",
        "</html>\n",
        "\n",
        "```\n",
        "\n"
      ],
      "metadata": {
        "id": "REVUnmJYOsQr"
      }
    },
    {
      "cell_type": "markdown",
      "source": [
        "Question 6: Ravi wants to leave a note in his HTML file so that only other developers\n",
        "can see it, not the users on the website. How should he do this? Why are such notes\n",
        "useful?\n",
        "\n",
        "  - Answer\n",
        "  Ravi should use the comment for leaving note in his HTML file, it will only be visible to the developers and will not be seen on the front end.\n",
        "\n",
        "    -> Usefulness -\n",
        "     - It will remmembers the developers that why certain code is written, what are their complexities, functionalities.\n",
        "\n",
        "     - Clarify complex logic or structure inside the HTML for better maintainability.\n",
        "\n",
        "```\n",
        "# This is how we put comments\n",
        "\n",
        "  <!-- This section is for the navigation menu -->\n",
        "<nav>\n",
        "  <!-- More navigation links will be added later -->\n",
        "</nav>\n",
        "```\n",
        "These comments are not visible to users in the browser, but developers can see them by viewing the page’s source code.\n",
        "\n"
      ],
      "metadata": {
        "id": "5tTCrbNzP_wT"
      }
    },
    {
      "cell_type": "markdown",
      "source": [
        "Question 7: Here’s a form snippet. Can you spot the error and rewrite the correct\n",
        "version?\n",
        "\n",
        "```\n",
        "<form>\n",
        "<input name=\"email\">\n",
        "<select>\n",
        "<option>India</option>\n",
        "</select>\n",
        "<button>Send</buton>\n",
        "</form>\n",
        "```"
      ],
      "metadata": {
        "id": "FSJuJVg9SHyU"
      }
    },
    {
      "cell_type": "markdown",
      "source": [
        "  - Answer\n",
        "\n",
        "  `<input>` tag is not self-closed\n",
        "\n",
        "  `<button` tag is incomplete\n",
        "\n",
        "  optional, `action` and `method` should ideally be present.\n",
        "\n",
        "\n",
        "\n",
        "```\n",
        "# This is Correct Versio\n",
        "\n",
        "<form action=\"/submit-form\" method=\"post\">\n",
        "  <input type=\"email\" name=\"email\" placeholder=\"Enter your email\" required />\n",
        "  \n",
        "  <select name=\"country\" required>\n",
        "    <option value=\"\">--Select Country--</option>\n",
        "    <option value=\"india\">India</option>\n",
        "    <option value=\"usa\">USA</option>\n",
        "    <option value=\"uk\">UK</option>\n",
        "  </select>\n",
        "\n",
        "  <button type=\"submit\">Submit</button>\n",
        "</form>\n",
        "```\n",
        "\n"
      ],
      "metadata": {
        "id": "yl6wB4_6TK_8"
      }
    }
  ]
}